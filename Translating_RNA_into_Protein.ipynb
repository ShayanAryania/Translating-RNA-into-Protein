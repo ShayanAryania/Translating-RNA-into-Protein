{
 "cells": [
  {
   "cell_type": "markdown",
   "metadata": {},
   "source": [
    "### ***Problem***"
   ]
  },
  {
   "cell_type": "markdown",
   "metadata": {},
   "source": [
    "Problem\n",
    "\n",
    "The 20 commonly occurring amino acids are abbreviated by using 20 letters from the English alphabet (all letters except for B, J, O, U, X, and Z). Protein strings are constructed from these 20 symbols. Henceforth, the term genetic string will incorporate protein strings along with DNA strings and RNA strings.\n",
    "\n",
    "The RNA codon table dictates the details regarding the encoding of specific codons into the amino acid alphabet.\n",
    "\n",
    "Given: An RNA string s corresponding to a strand of mRNA (of length at most 10 kbp).\n",
    "\n",
    "Return: The protein string encoded by s."
   ]
  },
  {
   "cell_type": "markdown",
   "metadata": {},
   "source": [
    "### ***Sample Dataset***"
   ]
  },
  {
   "cell_type": "markdown",
   "metadata": {},
   "source": [
    "AUGGCCAUGGCGCCCAGAACUGAGAUCAAUAGUACCCGUAUUAACGGGUGA"
   ]
  },
  {
   "cell_type": "markdown",
   "metadata": {},
   "source": [
    "#### ***Sample Output***"
   ]
  },
  {
   "cell_type": "markdown",
   "metadata": {},
   "source": [
    "MAMAPRTEINSTRING"
   ]
  },
  {
   "cell_type": "markdown",
   "metadata": {},
   "source": [
    "#### ***Hint***"
   ]
  },
  {
   "cell_type": "markdown",
   "metadata": {},
   "source": [
    "Consider simulating inheritance on a number of small test cases in order to check your solution."
   ]
  },
  {
   "cell_type": "markdown",
   "metadata": {},
   "source": [
    "# Code"
   ]
  },
  {
   "cell_type": "code",
   "execution_count": 20,
   "metadata": {},
   "outputs": [],
   "source": [
    "import os\n",
    "from scipy.special import comb\n",
    "from builtins import map\n",
    "from itertools import takewhile"
   ]
  },
  {
   "cell_type": "markdown",
   "metadata": {},
   "source": [
    "#### Functions"
   ]
  },
  {
   "cell_type": "code",
   "execution_count": 70,
   "metadata": {},
   "outputs": [],
   "source": [
    "class ProteinTranslator(object):\n",
    "    \"\"\"Performs various protein related translations.\"\"\"\n",
    "    def __init__(self):\n",
    "        \"\"\"Initialize the translation dictionaries.\"\"\"\n",
    "\n",
    "        # Build the rna to protein dictionary.\n",
    "        with open(os.path.join(os.path.dirname(\"/Users/shayanaryania/Desktop/University/Rosalind/8_Translating_RNA_into_Protein/\"), \"codon_table_rna.txt\")) as rna_prot_table:\n",
    "            self.rna_to_protein_dict = {line.strip().split()[0]:line.strip().split()[1] for line in rna_prot_table}\n",
    "\n",
    "    def rna_to_protein(self, base):\n",
    "        return self.rna_to_protein_dict[base]\n",
    "    \n",
    "\n",
    "def rna_to_protein(rna):\n",
    "    \"\"\"Translates RNA to Protein.\"\"\"\n",
    "    # Load the translator and create a lambda function to check for the stop codon.\n",
    "    translate = ProteinTranslator()\n",
    "    not_stop = lambda rna_base: translate.rna_to_protein(rna_base) != 'Stop'\n",
    "\n",
    "    # Generate a list of all rna triples up to the stop codon, then translate to protein.\n",
    "    non_stop_rna = takewhile(not_stop, (rna[3*i:3*i+3] for i in range(int(len(rna)/3))))\n",
    "    protein_list = map(translate.rna_to_protein, non_stop_rna)\n",
    "\n",
    "    return ''.join(protein_list)\n"
   ]
  },
  {
   "cell_type": "markdown",
   "metadata": {},
   "source": [
    "#### Importing the file"
   ]
  },
  {
   "cell_type": "code",
   "execution_count": 71,
   "metadata": {},
   "outputs": [],
   "source": [
    "\"\"\"Main call. Parses, runs, and saves problem specific data.\"\"\"\n",
    "# Read the input data.\n",
    "with open('/Users/shayanaryania/Desktop/University/Rosalind/8_Translating_RNA_into_Protein/rosalind_prot.txt') as input_data:\n",
    "    s = input_data.read().strip()"
   ]
  },
  {
   "cell_type": "code",
   "execution_count": 75,
   "metadata": {},
   "outputs": [],
   "source": [
    "# Get the translated protein.\n",
    "protein_output = rna_to_protein(s)"
   ]
  },
  {
   "cell_type": "markdown",
   "metadata": {},
   "source": [
    "#### Printing the output"
   ]
  },
  {
   "cell_type": "code",
   "execution_count": 76,
   "metadata": {},
   "outputs": [
    {
     "name": "stdout",
     "output_type": "stream",
     "text": [
      "MNPGSSRLRREIKNFADDPSYTPYRHRFVEGGSNALCGPGLSLNRRVLKSCEAVSGAYPARNGTGRQAVHKWIKPRTLNYPETCLFAIGHYTTFNRELCFLCACNSTSRVRRGYIAKGYPYRIISKLYRRVTVAVFSMLPMQQKVCGPFRYDHCVMPYRGYCGLHTRSASGCTHREEIRTDAGLMDRPYKPQKSKASPLNGPLAMRDVRFGAEVFFTWPAYDTGSWCAADYSDIECVPLPVTTRYPRWRGIKRLIISGALGGNRLIVWHNHKNCAASGRDGDQHGKRHISATTRLRLGLDNRIRMLMRMNSFAALYLFLIPGHGTKLRQVSLFQAPKYPVEPRNCGRGESKTRVSRIGCTQPRTRVLAGILGLGGKRFYNLACPLLLRNKQRARLRYQGNLSKSLSKPRAGSPSEIMRLYRDVGTRYNRTRRFLRTKRRVDNHMVTLKHWPPRNNEESCFCSPHDLLAIVCSHLNNHWLVIRLLKRVNDRWSLNNRERAETVSLKKLTHASRYMILIVTGRNVRGGGRIILNSLLSRRASWDDLGPRSKNRACCTSVFVVADVEGLSAAYCLVCCYVQLRESHEHNTGKVRMFENNWAFALILAWWMRLGSAFPSPGGPNFPSAECLEFHHWHATPNGSDIADPTIETCANSRMPALHSLSIGSFFTMTRPEVGKQMLEYCVYRPSILLKDEKQGLILTISYCKFAITRITQYDPLVTSAKGKCSIDPQIPICSFIANPAKLCSLTSVDRTSVSMGQAEPGLHEPTQGVTNAAGTFSRLWKPEGSGRYSSFSNWHRKPPFGHGRSPPRSSSTGYSIRNSSTSESIVIQTVFGRESLWAHNWMFGECFMGPTGYIDEDPLKSLWSAIGHISFGMRKFGRAVQHDSLVSQHIRLAGSSSLWEWAHSVGRTHLWFPNTNVEIRLYKLYLYTQGNHNRDHIEPHSHRSALNFSCCCEEGPVCLPIGGGRSPTFHGKDDIPIHLPGSSPGRSVHKCNIKRLAGLCEQLPPSSVLYSPKRRGIRTECRDLRLDLNEYPRALDSIHCGVSSTALYLFPERRPPSPLLMLGITPPAPAQWFVTPQRSAVFNDVCVLLIRFGLYNVSLEGRSGLGSERLSNARKLWATVDDCLRGATPRVSSHLLVASSLIRILTPGSHANWGFPAYASNLVVEIVGPDRTVYHKPGIRALKLFLRCRTIRSTFSALSSTMALCRTVRQTHRFVWTIGLPLCTGRRIKPGNSPRKEETVRISGTVAPTDVDKLVGRHVAPALTALSPFSVLTSICPSISRVSHGRISPELVCPAYSLLAPVGTLAGEATTLKVILSCLQYIDRFHSVTLSKTFTYFRGPCGVTLRDTLGRCALPWVYVVLWQSLRKLVCDITGPHVESDFIIRCRTRCIQIDATRSNYDIFIPSDALSISSIPSETGNSARRTGCQILRCPTCVEPVFPSRTSYHPVKNPPDAGFGCPHFPTLYLALHVRSYGRSRRRCTICRPRALGSERLLIGVLLGKHTSGNIQAMPQYHKYSAPQLVRIDPLSPQLTSNPFRPMDPSAPTNKLVLKIYGVPPQRHDCTLHAFIRRESVHVEPGRFRKGYYNLCKNYSQTARPDTSTFGLTVRTKPTTSRNPQANGTRPFITRQHVARRAWRCQIPTVISPQVSFLNGTPRETITWGEDMVSYMEDFDQGGHLSRGCTLYSILPILDIRCADFRVTTDTARPSATACLLIPWRGSEGRVSATKAIMCPLFGPRFSQPSERAHGSLSWTYVTIANDDCAGGPGDWAGSTVRIGGSMHTRRLRTHMALTERLKNDLDRGIAVCILMKTTSHSGTWLYKPSLANYLLDEAQAWSWRPPLLSTYQGRPKTTFRNSSTTRTYHYLQRERVCSALNMSSEFCSAIIRNAELYGLSPWSLPCVKDEQGVLDTKCALRHDVYDTQRSCNSEMNDLGARTPQERSLNTPIVNGLGRSSSDVQWHQGFTLLASLHNLTSFATKSSSHTGGSWTRSRAIICRRAIGKALGYLLEVGVLSEPDPPPEHALLLLNWRTWVNGNRKHQIPAGGRILSSERDPRNIKIAGHTPGKGIPVCGDPVRTQGNPWYPGAQNIRCVANLKDITQNIPWLIVYTGHEDVHVIRGSNRHIDPPRHCTPFYDALRQARASEPVGSDSVVCFLDVLPETDGRVRVGHLIGQVCSQQRVKLNARRYNFGGSFLPVIQAMKSVLGDDPCVMEQYHPGGPERQICTSCKLGVNAPGSGNLTTSLQYRLSATTDTCRWGGTCYAYSSYHANIVWITCGDDRWGLHILIRMPSHKSRVALRRRKLCLVKCILNGSPLSSSPRDQQSCLTAPGSSNKDLTGSQLLGYGTPISLGRSKTPAPLNIRYCLHAICVGLIHPIDLKPWYCIPEVPLTRLDQALWYAPSSCLSLHLLLYAFERQEQTPPGSNFAPSVSGVLDYQRSNRPFTGVCTPPEGIRSFEVGNKSISPKLVIVAVQISEPHSPSGFKLRWRRSLQLVRFPSATAVRPASQIYHYDLTRDCARVTTDKSKGTRIGHYAEKIQGPARVDEHGLGPLFGHCGERLRRRSQDKLLYCLDLHVDFWECTCWWSTGILVLLLEAGYPIWLPRRVMARTRSTTPTISRWAPCITIKFLVFRRIGVLATRELGIRKPFIIFSLAHFGQYSVCGPDNTKTFSFRTTCDKRNHTSASAHSTKGKRRGHDVVTRLPKRTSVYGVAHTANSYKHLGFRNHGSTYCDPTCQYPCSTTLILVCVGPNASSNPFGNGRLLCGVLWSFVLRYRSSEHQLILFYLFLHALIKRVIGPRIPAQLLLKAFGRRWRVDARWPNSTRHGEVVDHILNPVNLIWHIDPVNTLSPKLNIPRRWYTQLFSQVEKGQGERTPKPERGNLVDGLDKPRMLPLRSSTTVEIALRAATLVGHHLIGASFNMGVVEKDGSLLWDVCGRFIYTFFFWTTIPTATFVRCNIFPSVIGTFRSGYPYVAYVIVVSPYCLGLLSLADMLFSDLASAPGIQHDAGCATSLIARLPGEIFVLNDRLQMPQNTDYHDTMTDYAGSNAFIRQTPGRRRMSLECRPALVSIRWVGKGHKPSLSPTIHASIVPGGEIYHHMRSTISATFCSTPVECVPSPTSKRVRGLLWHLCKPLHERLLALLIPAFNIRARIPLIILVIHDLVSMHICSTRKTNVRHGCRSNSLSRPLVAYSTHSKESPIDDLELHLTRPSSDTDPLFHSIDRATRHVGRLWLGYWKRRTHHLAYCTIMWTANMVGRPPDAYARVIGDRIKDTRRFKDCGHMDMTYRGQAD\n"
     ]
    }
   ],
   "source": [
    "print (protein_output)"
   ]
  },
  {
   "cell_type": "markdown",
   "metadata": {},
   "source": [
    "#### Exporting the output"
   ]
  },
  {
   "cell_type": "code",
   "execution_count": 77,
   "metadata": {},
   "outputs": [],
   "source": [
    "with open('/Users/shayanaryania/Desktop/University/Rosalind/8_Translating_RNA_into_Protein/Translating_RNA_into_Protein.txt', 'w') as output_data:\n",
    "    output_data.write(protein_output)"
   ]
  }
 ],
 "metadata": {
  "kernelspec": {
   "display_name": "Python 3",
   "language": "python",
   "name": "python3"
  },
  "language_info": {
   "codemirror_mode": {
    "name": "ipython",
    "version": 3
   },
   "file_extension": ".py",
   "mimetype": "text/x-python",
   "name": "python",
   "nbconvert_exporter": "python",
   "pygments_lexer": "ipython3",
   "version": "3.11.4"
  }
 },
 "nbformat": 4,
 "nbformat_minor": 2
}
